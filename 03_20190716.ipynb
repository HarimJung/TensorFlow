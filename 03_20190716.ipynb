{
 "cells": [
  {
   "cell_type": "markdown",
   "metadata": {},
   "source": [
    "### MNIST 예제"
   ]
  },
  {
   "cell_type": "code",
   "execution_count": 1,
   "metadata": {},
   "outputs": [
    {
     "name": "stderr",
     "output_type": "stream",
     "text": [
      "C:\\Users\\Affinity\\Anaconda3\\lib\\site-packages\\dask\\config.py:168: YAMLLoadWarning: calling yaml.load() without Loader=... is deprecated, as the default Loader is unsafe. Please read https://msg.pyyaml.org/load for full details.\n",
      "  data = yaml.load(f.read()) or {}\n",
      "WARNING: Logging before flag parsing goes to stderr.\n",
      "W0716 16:13:11.864975  2096 deprecation.py:323] From <ipython-input-1-d02da00674ab>:4: read_data_sets (from tensorflow.contrib.learn.python.learn.datasets.mnist) is deprecated and will be removed in a future version.\n",
      "Instructions for updating:\n",
      "Please use alternatives such as official/mnist/dataset.py from tensorflow/models.\n",
      "W0716 16:13:11.864975  2096 deprecation.py:323] From C:\\Users\\Affinity\\Anaconda3\\lib\\site-packages\\tensorflow\\contrib\\learn\\python\\learn\\datasets\\mnist.py:260: maybe_download (from tensorflow.contrib.learn.python.learn.datasets.base) is deprecated and will be removed in a future version.\n",
      "Instructions for updating:\n",
      "Please write your own downloading logic.\n",
      "W0716 16:13:11.866024  2096 deprecation.py:323] From C:\\Users\\Affinity\\Anaconda3\\lib\\site-packages\\tensorflow\\contrib\\learn\\python\\learn\\datasets\\mnist.py:262: extract_images (from tensorflow.contrib.learn.python.learn.datasets.mnist) is deprecated and will be removed in a future version.\n",
      "Instructions for updating:\n",
      "Please use tf.data to implement this functionality.\n"
     ]
    },
    {
     "name": "stdout",
     "output_type": "stream",
     "text": [
      "Extracting ./mnist/data/train-images-idx3-ubyte.gz\n"
     ]
    },
    {
     "name": "stderr",
     "output_type": "stream",
     "text": [
      "W0716 16:13:12.081084  2096 deprecation.py:323] From C:\\Users\\Affinity\\Anaconda3\\lib\\site-packages\\tensorflow\\contrib\\learn\\python\\learn\\datasets\\mnist.py:267: extract_labels (from tensorflow.contrib.learn.python.learn.datasets.mnist) is deprecated and will be removed in a future version.\n",
      "Instructions for updating:\n",
      "Please use tf.data to implement this functionality.\n",
      "W0716 16:13:12.091474  2096 deprecation.py:323] From C:\\Users\\Affinity\\Anaconda3\\lib\\site-packages\\tensorflow\\contrib\\learn\\python\\learn\\datasets\\mnist.py:110: dense_to_one_hot (from tensorflow.contrib.learn.python.learn.datasets.mnist) is deprecated and will be removed in a future version.\n",
      "Instructions for updating:\n",
      "Please use tf.one_hot on tensors.\n",
      "W0716 16:13:12.141438  2096 deprecation.py:323] From C:\\Users\\Affinity\\Anaconda3\\lib\\site-packages\\tensorflow\\contrib\\learn\\python\\learn\\datasets\\mnist.py:290: DataSet.__init__ (from tensorflow.contrib.learn.python.learn.datasets.mnist) is deprecated and will be removed in a future version.\n",
      "Instructions for updating:\n",
      "Please use alternatives such as official/mnist/dataset.py from tensorflow/models.\n"
     ]
    },
    {
     "name": "stdout",
     "output_type": "stream",
     "text": [
      "Extracting ./mnist/data/train-labels-idx1-ubyte.gz\n",
      "Extracting ./mnist/data/t10k-images-idx3-ubyte.gz\n",
      "Extracting ./mnist/data/t10k-labels-idx1-ubyte.gz\n",
      "Epoch :  0001 Avg. cost =  0.404\n",
      "Epoch :  0002 Avg. cost =  0.150\n",
      "Epoch :  0003 Avg. cost =  0.099\n",
      "Epoch :  0004 Avg. cost =  0.070\n",
      "Epoch :  0005 Avg. cost =  0.054\n",
      "Epoch :  0006 Avg. cost =  0.041\n",
      "Epoch :  0007 Avg. cost =  0.033\n",
      "Epoch :  0008 Avg. cost =  0.024\n",
      "Epoch :  0009 Avg. cost =  0.022\n",
      "Epoch :  0010 Avg. cost =  0.019\n",
      "Epoch :  0011 Avg. cost =  0.015\n",
      "Epoch :  0012 Avg. cost =  0.013\n",
      "Epoch :  0013 Avg. cost =  0.015\n",
      "Epoch :  0014 Avg. cost =  0.012\n",
      "Epoch :  0015 Avg. cost =  0.009\n",
      "최적화 완료\n",
      "정확도 :  0.9808\n"
     ]
    }
   ],
   "source": [
    "import tensorflow as tf\n",
    "from tensorflow.examples.tutorials.mnist import input_data\n",
    "\n",
    "mnist = input_data.read_data_sets('./mnist/data/', one_hot=True)\n",
    "\n",
    "X = tf.placeholder(tf.float32, [None, 784])\n",
    "Y = tf.placeholder(tf.float32, [None, 10])\n",
    "\n",
    "W1 = tf.Variable(tf.random_normal([784, 256], stddev=0.01))\n",
    "L1 = tf.nn.relu(tf.matmul(X, W1))\n",
    "\n",
    "W2 = tf.Variable(tf.random_normal([256, 256], stddev=0.01))\n",
    "L2 = tf.nn.relu(tf.matmul(L1, W2))\n",
    "\n",
    "W3 = tf.Variable(tf.random_normal([256, 10], stddev=0.01))\n",
    "\n",
    "model = tf.matmul(L2, W3)\n",
    "\n",
    "cost = tf.reduce_mean(tf.nn.softmax_cross_entropy_with_logits_v2(logits=model, labels=Y))\n",
    "optimizer = tf.train.AdamOptimizer(0.001).minimize(cost)\n",
    "\n",
    "sess = tf.Session()\n",
    "sess.run(tf.global_variables_initializer())\n",
    "\n",
    "batch_size = 100\n",
    "total_batch = int(mnist.train.num_examples/batch_size)\n",
    "\n",
    "for epoch in range(15):\n",
    "    total_cost=0\n",
    "    \n",
    "    for i in range(total_batch):\n",
    "        batch_xs, batch_ys = mnist.train.next_batch(batch_size)\n",
    "        _, cost_val = sess.run([optimizer, cost], feed_dict={X:batch_xs, Y:batch_ys})\n",
    "        total_cost += cost_val\n",
    "        \n",
    "    print('Epoch : ', '%04d' %(epoch+1), 'Avg. cost = ', '{:.3f}'.format(total_cost/total_batch))\n",
    "    \n",
    "print('최적화 완료')\n",
    "\n",
    "is_correct = tf.equal(tf.argmax(model, 1), tf.argmax(Y, 1))\n",
    "accuracy = tf.reduce_mean(tf.cast(is_correct, tf.float32))\n",
    "print('정확도 : ', sess.run(accuracy, feed_dict={X:mnist.test.images, Y:mnist.test.labels}))"
   ]
  },
  {
   "cell_type": "markdown",
   "metadata": {},
   "source": [
    "### MNIST 예제 2"
   ]
  },
  {
   "cell_type": "code",
   "execution_count": 4,
   "metadata": {},
   "outputs": [
    {
     "name": "stdout",
     "output_type": "stream",
     "text": [
      "Extracting ./mnist/data\\train-images-idx3-ubyte.gz\n",
      "Extracting ./mnist/data\\train-labels-idx1-ubyte.gz\n",
      "Extracting ./mnist/data\\t10k-images-idx3-ubyte.gz\n",
      "Extracting ./mnist/data\\t10k-labels-idx1-ubyte.gz\n",
      "Epoch :  0001 Avg. cost =  0.411\n",
      "Epoch :  0002 Avg. cost =  0.155\n",
      "Epoch :  0003 Avg. cost =  0.099\n",
      "Epoch :  0004 Avg. cost =  0.072\n",
      "Epoch :  0005 Avg. cost =  0.053\n",
      "Epoch :  0006 Avg. cost =  0.041\n",
      "Epoch :  0007 Avg. cost =  0.031\n",
      "Epoch :  0008 Avg. cost =  0.025\n",
      "Epoch :  0009 Avg. cost =  0.020\n",
      "Epoch :  0010 Avg. cost =  0.019\n",
      "Epoch :  0011 Avg. cost =  0.015\n",
      "Epoch :  0012 Avg. cost =  0.016\n",
      "Epoch :  0013 Avg. cost =  0.009\n",
      "Epoch :  0014 Avg. cost =  0.012\n",
      "Epoch :  0015 Avg. cost =  0.012\n",
      "최적화 완료\n"
     ]
    },
    {
     "data": {
      "image/png": "[encoded data removed]",
      "text/plain": [
       "<Figure size 432x288 with 1 Axes>"
      ]
     },
     "metadata": {
      "needs_background": "light"
     },
     "output_type": "display_data"
    }
   ],
   "source": [
    "import matplotlib.pyplot as plt\n",
    "from tensorflow.examples.tutorials.mnist import input_data\n",
    "\n",
    "mnist = input_data.read_data_sets('./mnist/data', one_hot=True)\n",
    "display_step=1\n",
    "\n",
    "X = tf.placeholder(tf.float32, [None, 784])\n",
    "Y = tf.placeholder(tf.float32, [None, 10])\n",
    "\n",
    "W1 = tf.Variable(tf.random_normal([784, 256], stddev=0.01))\n",
    "L1 = tf.nn.relu(tf.matmul(X, W1))\n",
    "\n",
    "W2 = tf.Variable(tf.random_normal([256, 256], stddev=0.01))\n",
    "L2 = tf.nn.relu(tf.matmul(L1, W2))\n",
    "\n",
    "W3 = tf.Variable(tf.random_normal([256, 10], stddev=0.01))\n",
    "\n",
    "model = tf.matmul(L2, W3)\n",
    "\n",
    "cost = tf.reduce_mean(tf.nn.softmax_cross_entropy_with_logits_v2(logits=model, labels=Y))\n",
    "optimizer = tf.train.AdamOptimizer(0.001).minimize(cost)\n",
    "avg_set = []\n",
    "epoch_set = []\n",
    "\n",
    "sess = tf.Session()\n",
    "sess.run(tf.global_variables_initializer())\n",
    "\n",
    "batch_size = 100\n",
    "total_batch = int(mnist.train.num_examples/batch_size)\n",
    "\n",
    "for epoch in range(15):\n",
    "    total_cost = 0\n",
    "    \n",
    "    for i in range(total_batch):\n",
    "        batch_xs, batch_ys = mnist.train.next_batch(batch_size)\n",
    "        \n",
    "        _, cost_val = sess.run([optimizer, cost], feed_dict = {X:batch_xs, Y:batch_ys})\n",
    "        total_cost += cost_val\n",
    "        \n",
    "    print('Epoch : ', '%04d' %(epoch+1), 'Avg. cost = ', '{:.3f}'.format(total_cost/total_batch))\n",
    "    \n",
    "\n",
    "    avg_set.append(total_cost)\n",
    "    epoch_set.append(epoch+1)\n",
    "\n",
    "print('최적화 완료')\n",
    "\n",
    "plt.plot(epoch_set, avg_set, 'o', label='MLP Training phase')\n",
    "plt.ylabel('cost')\n",
    "plt.xlabel('epoch')\n",
    "plt.legend()\n",
    "plt.show()\n",
    "        "
   ]
  },
  {
   "cell_type": "code",
   "execution_count": null,
   "metadata": {},
   "outputs": [],
   "source": [
    "mnist = input_data.read_data_sets('./mnist/data', one_hot=True)\n",
    "display_step=1\n",
    "\n",
    "X = tf.placeholder(tf.float32, [None, 784])\n",
    "Y = tf.placeholder(tf.float32, [None, 10])\n",
    "\n",
    "W1 = tf.Variable(tf.random_normal([784, 256], stddev=0.01))\n",
    "L1 = tf.nn.relu(tf.matmul(X, W1))\n",
    "\n",
    "W2 = tf.Variable(tf.random_normal([256, 256], stddev=0.01))\n",
    "L2 = tf.nn.relu(tf.matmul(L1, W2))\n",
    "\n",
    "W3 = tf.Variable(tf.random_normal([256, 10], stddev=0.01))\n",
    "\n",
    "model = tf.matmul(L2, W3)\n",
    "\n",
    "cost = tf.reduce_mean(tf.nn.softmax_cross_entropy_with_logits_v2(logits=model, labels=Y))\n",
    "optimizer = tf.train.AdamOptimizer(0.001).minimize(cost)\n",
    "avg_set = []\n",
    "epoch_set = []\n",
    "\n",
    "sess = tf.Session()\n",
    "sess.run(tf.global_variables_initializer())\n",
    "\n",
    "batch_size = 100\n",
    "total_batch = int(mnist.train.num_examples/batch_size)\n",
    "\n",
    "for epoch in range(15):\n",
    "    total_cost = 0\n",
    "    \n",
    "    for i in range(total_batch):\n",
    "        batch_xs, batch_ys = mnist.train.next_batch(batch_size)\n",
    "        \n",
    "        _, cost_val = sess.run([optimizer, cost], feed_dict = {X:batch_xs, Y:batch_ys})\n",
    "        total_cost += cost_val\n",
    "        \n",
    "    print('Epoch : ', '%04d' %(epoch+1), 'Avg. cost = ', '{:.3f}'.format(total_cost/total_batch))\n",
    "    \n",
    "\n",
    "    avg_set.append(total_cost)\n",
    "    epoch_set.append(epoch+1)\n",
    "\n",
    "print('최적화 완료')\n",
    "\n",
    "plt.plot(epoch_set, avg_set, 'o', label='MLP Training phase')\n",
    "plt.ylabel('cost')\n",
    "plt.xlabel('epoch')\n",
    "plt.legend()\n",
    "plt.show()"
   ]
  }
 ],
 "metadata": {
  "kernelspec": {
   "display_name": "Python 3",
   "language": "python",
   "name": "python3"
  },
  "language_info": {
   "codemirror_mode": {
    "name": "ipython",
    "version": 3
   },
   "file_extension": ".py",
   "mimetype": "text/x-python",
   "name": "python",
   "nbconvert_exporter": "python",
   "pygments_lexer": "ipython3",
   "version": "3.7.3"
  }
 },
 "nbformat": 4,
 "nbformat_minor": 2
}
