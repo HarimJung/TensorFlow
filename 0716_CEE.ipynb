{
  "nbformat": 4,
  "nbformat_minor": 0,
  "metadata": {
    "colab": {
      "name": "0716 CEE.ipynb",
      "version": "0.3.2",
      "provenance": [],
      "include_colab_link": true
    },
    "kernelspec": {
      "name": "python3",
      "display_name": "Python 3"
    }
  },
  "cells": [
    {
      "cell_type": "markdown",
      "metadata": {
        "id": "view-in-github",
        "colab_type": "text"
      },
      "source": [
        "<a href=\"https://colab.research.google.com/github/HarimJung/TensorFlow/blob/master/0716_CEE.ipynb\" target=\"_parent\"><img src=\"https://colab.research.google.com/assets/colab-badge.svg\" alt=\"Open In Colab\"/></a>"
      ]
    },
    {
      "cell_type": "code",
      "metadata": {
        "id": "-5ER3P0Hm8o3",
        "colab_type": "code",
        "colab": {}
      },
      "source": [
        "import tensorflow as tf\n",
        "import matplotlib.pyplot as plt\n",
        "import matplotlib as mpl\n",
        "import numpy as np\n",
        "import pandas as pd"
      ],
      "execution_count": 0,
      "outputs": []
    },
    {
      "cell_type": "markdown",
      "metadata": {
        "id": "aRsnzYqnoJv8",
        "colab_type": "text"
      },
      "source": [
        "get the MNIST data set"
      ]
    },
    {
      "cell_type": "markdown",
      "metadata": {
        "id": "NGwZRTlApe5p",
        "colab_type": "text"
      },
      "source": [
        "Set the W and Logit continuasly to the end model"
      ]
    },
    {
      "cell_type": "code",
      "metadata": {
        "id": "bxfWcdWQoIku",
        "colab_type": "code",
        "colab": {
          "base_uri": "https://localhost:8080/",
          "height": 136
        },
        "outputId": "3dbe2a47-cbfc-4018-c10d-0a5bffae70ba"
      },
      "source": [
        "mnist=input_data.read_data_sets(\"./mnist_data/\", one_hot=True)\n",
        "#mnist.get_shape()\n",
        "\n",
        "X=tf.placeholder(tf.float32,[None,784])\n",
        "Y=tf.placeholder(tf.float32,[None,10])\n",
        "\n",
        "W1=tf.get_Variable(tf.random_normal(\"W1\",shape=[784,256],initializer=tf.contrib.layers.xavier_initializer())\n",
        "b1=tf.Variable(tf.random_normal([256]))\n",
        "L1=tf.nn.relu(tf.matmul(X,W1)+b1)\n",
        "\n",
        "W2=tf.get_Variable(tf.random_normal(\"W2\",shape=[256,256],initializer=tf.contrib.layers.xavier_initializer())\n",
        "b2=tf.Variable(tf.random_normal([256]))\n",
        "L2=tf.nn.relu(tf.matmul(L1,W2)+b2)\n",
        "\n",
        "\n",
        "W3=tf.get_Variable(tf.random_normal(\"W3\",shape=[256,10],initializer=tf.contrib.layers.xavier_initializer())\n",
        "b3=tf.Variable(tf.random_normal([10]))\n",
        "hypo=tf.matmul(L2,W3)+b3\n",
        "\n",
        "               \n",
        "cost=tf.reduce_mean(tf.nn.softmax_cross_entropy_with_logits_v2(logits=model,labels= Y))\n",
        "optimizer=tf.train.AdamOptimizer(0.001).minimize(cost)\n",
        "avg_set=[]\n",
        "epoch_et=[]\n",
        "\n",
        "init=tf.global_variables_initializer()\n",
        "sess=tf.Session()\n",
        "sess.run(init)\n",
        "\n",
        "batch_s=100\n",
        "total_batch=int(mnist.train.num_examples/batch_s)\n",
        "total_batch\n",
        "\n",
        "for epoch in range(15):\n",
        "    total_cost=0\n",
        "    \n",
        "    for i in range(total_batch):\n",
        "        batch_xs, batch_ys = mnist.train.next_batch(batch_s)\n",
        "        _, cost_val = sess.run([optimizer, cost], feed_dict={X:batch_x, Y:batch_y})\n",
        "        total_cost += cost_val\n",
        "        \n",
        "    print('Epoch : ', '%04d' %(epoch+1), 'Avg. cost = ', '{:.3f}'.format(total_cost/total_batch))\n",
        "    "
      ],
      "execution_count": 44,
      "outputs": [
        {
          "output_type": "error",
          "ename": "SyntaxError",
          "evalue": "ignored",
          "traceback": [
            "\u001b[0;36m  File \u001b[0;32m\"<ipython-input-44-f6e856708fc2>\"\u001b[0;36m, line \u001b[0;32m8\u001b[0m\n\u001b[0;31m    b1=tf.Variable(tf.random_normal([256]))\u001b[0m\n\u001b[0m     ^\u001b[0m\n\u001b[0;31mSyntaxError\u001b[0m\u001b[0;31m:\u001b[0m invalid syntax\n"
          ]
        }
      ]
    },
    {
      "cell_type": "code",
      "metadata": {
        "id": "sZHpZslgrBgP",
        "colab_type": "code",
        "colab": {}
      },
      "source": [
        ""
      ],
      "execution_count": 0,
      "outputs": []
    }
  ]
}