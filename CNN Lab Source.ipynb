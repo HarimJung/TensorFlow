{
 "cells": [
  {
   "cell_type": "markdown",
   "metadata": {
    "slideshow": {
     "slide_type": "-"
    }
   },
   "source": [
    "# CNN\n",
    "이 노트는 CNN(Convolution Neural Network)을 배우기 위한 주피터노트북이다. 먼저, 이 CNN이 영상에 잘 적용되는 이유를 설명하고자 한다. 한 가지 일관되게 기억해야 할 가장 중요한 사실은 CNN은 함수이며 함수는 입력과 출력을 연결짓는 블랙박스(미지의 어떤 것)라는 점이다. 그래서, CNN은 입력: 영상(image),\n",
    "출력: 범주(nominal)이다. 범주는 고양이, 호랑이와 같은 개념들이고 보면 되고, 그렇기 때문에 영상을 개념들로 맵핑한다 하여 CNN을 분류기라고도 부른다.\n",
    "\n",
    "먼저 CNN을 이해하기 위해 입력으로 들어올 영상을 알아보자. 이를 위해 파이썬 코드에서 이미지(정지영상)의 표현법을 익혀보도록 하자.\n",
    "\n",
    "\n",
    "## 정지영상(이미지)\n",
    "이미지는 파이썬 코드에서 흑백영상의 경우 1차원 배열로, 컬러영상의 경우 3차원 배열로 표현된다.\n",
    "\n",
    "예를 들어, 28x28 크기의 흑백영상은 (28,28,1)로 표현되며, 컬러영상은 (28, 28, 3)으로 표현된다. 즉, 3차원배열의 마지막 차원이 흑백의 경우 gray scale의 1채널이 존재하고, 컬러영상의 경우 R,G,B scale의 3채널이 존재한다. 1,2차원은 영상의 가로, 세로 크기를 의미한다. \n",
    "\n",
    "여기서, numpy의 array를 이용한 간단한 영상 표현법을 살펴보자."
   ]
  },
  {
   "cell_type": "code",
   "execution_count": 2,
   "metadata": {
    "scrolled": true
   },
   "outputs": [
    {
     "name": "stdout",
     "output_type": "stream",
     "text": [
      "(1, 3, 3, 1)\n"
     ]
    },
    {
     "data": {
      "text/plain": [
       "<matplotlib.image.AxesImage at 0x13b43a4a8>"
      ]
     },
     "execution_count": 2,
     "metadata": {},
     "output_type": "execute_result"
    },
    {
     "data": {
      "image/png": "[encoded data removed]",
      "text/plain": [
       "<Figure size 432x288 with 1 Axes>"
      ]
     },
     "metadata": {
      "needs_background": "light"
     },
     "output_type": "display_data"
    }
   ],
   "source": [
    "import tensorflow as tf\n",
    "import numpy as np\n",
    "import matplotlib.pyplot as plt\n",
    "#tensorflow interactive session\n",
    "sess = tf.InteractiveSession()\n",
    "image = np.array([[[[1],[2],[3]],\n",
    "                 [[4],[5],[6]],\n",
    "                             [[7],[8],[9]]]],dtype=np.float32)\n",
    "print(image.shape)\n",
    "plt.imshow(image.reshape(3,3),cmap='Greys')"
   ]
  },
  {
   "cell_type": "code",
   "execution_count": 5,
   "metadata": {
    "scrolled": false
   },
   "outputs": [
    {
     "name": "stdout",
     "output_type": "stream",
     "text": [
      "[[[[1.  0.  0. ]\n",
      "   [0.  1.  0. ]\n",
      "   [0.  0.  1. ]]\n",
      "\n",
      "  [[1.  1.  0. ]\n",
      "   [0.  1.  1. ]\n",
      "   [1.  0.  1. ]]\n",
      "\n",
      "  [[1.  0.5 0.5]\n",
      "   [0.5 1.  0.5]\n",
      "   [0.5 0.5 1. ]]]]\n",
      "(1, 3, 3, 3)\n"
     ]
    },
    {
     "data": {
      "text/plain": [
       "<matplotlib.image.AxesImage at 0x13bbaf3c8>"
      ]
     },
     "execution_count": 5,
     "metadata": {},
     "output_type": "execute_result"
    },
    {
     "data": {
      "image/png": "[encoded data removed]",
      "text/plain": [
       "<Figure size 432x288 with 1 Axes>"
      ]
     },
     "metadata": {
      "needs_background": "light"
     },
     "output_type": "display_data"
    }
   ],
   "source": [
    "import tensorflow as tf\n",
    "import numpy as np\n",
    "import matplotlib.pyplot as plt\n",
    "#tensorflow interactive session\n",
    "sess = tf.InteractiveSession()\n",
    "image = np.array([[[[1.,0.,0.], [0.,1.,0.], [0.,0.,1.]],\n",
    "                  [[1.,1.,0.], [0.,1.,1.], [1.,0.,1.]],\n",
    "                  [[1.,.5,.5], [.5,1.,.5], [.5,.5,1.]]]],dtype=np.float32)\n",
    "print(image)\n",
    "print(image.shape)\n",
    "plt.imshow(image[0])"
   ]
  },
  {
   "cell_type": "markdown",
   "metadata": {},
   "source": [
    "만약 numpy array에 대해서 좀더 상세하게 알고 싶다면, 다음 링크 https://jakevdp.github.io/PythonDataScienceHandbook/02.02-the-basics-of-numpy-arrays.html\n",
    "참조하라. \n",
    "간단하게 요점만 언급하면, array에서 꼭 알아야 할 사항은 ndim, shape, size의 개념을 구분할 줄 알아야 한다는 점이다.\n",
    "그리고, 이것을 1차원 array, 2차원 array, 3차원 array, 혹은 그 이상 차원의  array 표현 방법을 익혀두면 앞으로 영상데이터를 다루는 데 꼭 필요한 선결조건이다. 이 기초가 튼튼하지 못하면 파이썬 코드를 이해하는 데 어려움을 격게 될 것이다.\n",
    "\n",
    "##filter\n",
    "\n",
    "아래 코드는 tensorflow의 constant로 weight를 정의한 것이다. 여기서, array형태의 데이터가 인자로 전달된다. "
   ]
  },
  {
   "cell_type": "code",
   "execution_count": 81,
   "metadata": {
    "scrolled": true
   },
   "outputs": [
    {
     "name": "stdout",
     "output_type": "stream",
     "text": [
      "weight.shape:  (2, 2, 1, 1)\n"
     ]
    }
   ],
   "source": [
    "weight=tf.constant([[[[1.]],[[1.]]],\n",
    "                    [[[1.]],[[1.]]]])\n",
    "print(\"weight.shape: \",weight.shape)"
   ]
  },
  {
   "cell_type": "markdown",
   "metadata": {},
   "source": [
    "여기서, array는 (2,2,1,1)의 shape을 가진다. 4차원 배열이다. 수강생 여러분은 여기서 한가지 확실해하고 넘어가야할 부분은 \"어떤 shape의 array든지 정의할 수 있도록\" 연습을 해야 한다. 이렇게 정의할 수 있도록 하는 좋은 한가지 팁은 [다음의 [가 몇 개 나오는지가 shape의 모양을 결정한다. 단, 주의할 사항은 제일 마지막에는 []안의 원소의 개수로 정해진다. 위의 예에서, 대괄호([)가 4개 나온다. 4차원 배열이다. 다음으로 각 차원에서 어떤 shape을 가지느냐 이다.  그것은 뒤에서 세는 것이 좋다. 즉, 제일 안쪽 대괄호의 안의 원소를 꼼마로 구분할 떄 몇 개인지가 제일 마지막 차원의 크기이다. 구분없이 1개 존재한다. 다음으로 제일 안쪽 대괄호를 포함하는 바깥 대괄호의 원소를 콤마로 구분하여 몇 개 있느냐이다. 역시, 1개이다. 그 다음 바깥 대괄호는 2개의 원소를 가진다. 또한, 다음 바깥(사실상 제일 바깥) 대괄호는 역시 2개를 가진다. 따라서, 2,2,1,1이 된다.\n",
    "\n",
    "\n",
    "## Tensorflow에서 이미지배열과 필터배열의 각 차원의 의미\n",
    "Tensorflow에서의 이미지배열과 필터배열에 대한 의미는 다음과 같이 약속한다.\n",
    "\n",
    "Image: 1,3,3,3 image, Filter: 2,2,3,1, Stride: 1x1x1x1, Padding: VALID\n",
    "1,3,3,3 image: (image개수, 가로픽셀, 세로픽셀, 색깔채널수)\n",
    "\n",
    "2,2,3,1 filter: (가로픽셀,세로픽셀,색깔채널수, 필터개수)\n",
    "\n",
    "1,1 stride: (가로, 세로)\n",
    "\n",
    "valid\n",
    "\n",
    "SAME: 입력영상의 크기와 동일한 결과를 만들 수 있도록 바깥부분을 0으로 채운다.\n",
    "\n",
    "## Convolution Layer적용\n",
    "이제 이미지배열도 준비되었고, 필터배열도 준비되었으므로 convolution layer를 만들어 보자.\n",
    "\n",
    "convolution layer는 tensorflow의 nn모듈에 포함된 conv2d함수를 이용한다. 함수의 인자는 다음과 같다.\n",
    "\n",
    "tf.nn.conv2d(\n",
    "image,\n",
    "filter, \n",
    "strides,\n",
    "padding)\n",
    "\n",
    "위의 함수가 의도한대로 동작할 수 있도록 적절한 인자를 작성하여 넘겨준다.\n",
    "1) image -> 앞에서 살펴보았음\n",
    "2) filter -> 앞에서 살펴보았음\n",
    "3) strides -> 앞에서 살펴보았음. 1,2,4차원배열로 표현 가능. 1차원은 가로세로 동일, 2차원은 가로, 세로를 의미한다. 4차원은 (이미지,가로,세로,채널)의미\n",
    "4) padding -> valid, same 중의 하나를 선택함\n",
    "\n",
    "실제 코드는 아래와 같다.\n"
   ]
  },
  {
   "cell_type": "code",
   "execution_count": 6,
   "metadata": {},
   "outputs": [
    {
     "name": "stdout",
     "output_type": "stream",
     "text": [
      "image.shape (1, 3, 3, 3)\n",
      "weight.shape:  (2, 2, 3, 1)\n",
      "conv2d_image.shape:  (1, 3, 3, 1)\n",
      "[[6. 6. 3.]\n",
      " [8. 8. 4.]\n",
      " [4. 4. 2.]]\n"
     ]
    },
    {
     "data": {
      "image/png": "[encoded data removed]",
      "text/plain": [
       "<Figure size 432x288 with 1 Axes>"
      ]
     },
     "metadata": {
      "needs_background": "light"
     },
     "output_type": "display_data"
    }
   ],
   "source": [
    "print(\"image.shape\", image.shape)\n",
    "weight=tf.constant([[[[1.],[1.],[1.]],[[1.],[1.],[1.]]],\n",
    "                    [[[1.],[1.],[1.]],[[1.],[1.],[1.]]]])\n",
    "print(\"weight.shape: \",weight.shape)\n",
    "\n",
    "conv2d=tf.nn.conv2d(image, weight, strides=[1,1,1,1], padding=\"SAME\")\n",
    "conv2d_img=conv2d.eval()\n",
    "\n",
    "#shape으로 확인하기 위한 코드\n",
    "print(\"conv2d_image.shape: \", conv2d_img.shape)\n",
    "\n",
    "# 시각화하기 위한 코드 \n",
    "conv2d_img=np.swapaxes(conv2d_img,0,3)\n",
    "for i, one_img in enumerate(conv2d_img):\n",
    "    print(one_img.reshape(3,3))\n",
    "    plt.subplot(1,3,i+1),    plt.imshow(one_img[:,:,0].reshape(3,3),cmap='Greys')"
   ]
  },
  {
   "cell_type": "markdown",
   "metadata": {},
   "source": [
    "3 filter (2,2,3,3): (가로, 세로, 색채널개수, 필터 개수)"
   ]
  },
  {
   "cell_type": "code",
   "execution_count": 83,
   "metadata": {
    "scrolled": true
   },
   "outputs": [
    {
     "name": "stdout",
     "output_type": "stream",
     "text": [
      "image.shape (1, 3, 3, 3)\n",
      "weight.shape:  (2, 2, 3, 3)\n",
      "conv2d_image.shape:  (1, 3, 3, 3)\n",
      "[[6. 6. 3.]\n",
      " [8. 8. 4.]\n",
      " [4. 4. 2.]]\n",
      "[[60. 60. 30.]\n",
      " [80. 80. 40.]\n",
      " [40. 40. 20.]]\n",
      "[[-6. -6. -3.]\n",
      " [-8. -8. -4.]\n",
      " [-4. -4. -2.]]\n"
     ]
    },
    {
     "data": {
      "image/png": "[encoded data removed]",
      "text/plain": [
       "<Figure size 432x288 with 3 Axes>"
      ]
     },
     "metadata": {
      "needs_background": "light"
     },
     "output_type": "display_data"
    }
   ],
   "source": [
    "print(\"image.shape\", image.shape)\n",
    "weight=tf.constant([[[[1.,10.,-1.],[1.,10.,-1.],[1.,10.,-1.]],[[1.,10.,-1.],[1.,10.,-1.],[1.,10.,-1.]]],\n",
    "                    [[[1.,10.,-1.],[1.,10.,-1.],[1.,10.,-1.]],[[1.,10.,-1.],[1.,10.,-1.],[1.,10.,-1.]]]])\n",
    "print(\"weight.shape: \",weight.shape)\n",
    "conv2d=tf.nn.conv2d(image, weight, strides=[1,1,1,1], padding=\"SAME\")\n",
    "conv2d_img=conv2d.eval()\n",
    "\n",
    "print(\"conv2d_image.shape: \", conv2d_img.shape)\n",
    "conv2d_img=np.swapaxes(conv2d_img,0,3)\n",
    "for i, one_img in enumerate(conv2d_img):\n",
    "    print(one_img.reshape(3,3))\n",
    "    plt.subplot(1,3,i+1),    plt.imshow(one_img[:,:,0].reshape(3,3),cmap='Greys')"
   ]
  },
  {
   "cell_type": "markdown",
   "metadata": {},
   "source": [
    "## Max Pooling\n",
    "\n",
    "pooling의 사전적 의미는 관계되는 것들 간의 공유를 의미한다. max pooling은 공유를 통하여 최대값을 추출하는 것이라고 볼 수 있다. Max pooling은 앞의 convolution layer의 filter와 유사한 문법을 가진다. 아래의 내용을 보자. "
   ]
  },
  {
   "cell_type": "code",
   "execution_count": null,
   "metadata": {},
   "outputs": [],
   "source": [
    "import tensorflow as tf\n",
    "import numpy as np\n",
    "image = np.array([\n",
    "                  [\n",
    "                    [[4.],[3.]],\n",
    "                    [[2.],[1.]]\n",
    "                  ]\n",
    "                 ],dtype=np.float32)\n",
    "image_mp=tf.nn.max_pool(image, ksize=[1,2,2,1],strides=[1, 1, 1, 1],\n",
    "                        padding=\"SAME\")\n",
    "print(image_mp.shape)\n",
    "print(image_mp.eval())"
   ]
  },
  {
   "cell_type": "markdown",
   "metadata": {},
   "source": [
    "위에서 max_pool의 인자는 convolution layer를 거친 image이다. ksize는 필터사이즈를 의미하고 strides는 이동간격을 의미한다. padding에서 \"SAME\"은 image size 와 같은 결과를 내놓기 위해 0-padding한다.\n",
    "\n",
    "ksize는 일반적으로 [1,2,2,1]을 사용한다. 이것의 의미는 2x2사이즈의 필터를 의미한다. 여기서, 각 원소의 의미는 [image, width, hight, channel]다. 예를 들어, [2, 5, 5, 3] 의 의미는 2개의 이미지 중 가로x세로, 5x5의 필터를 써서 3채널 중 가장 큰 값을 취한다이다.  \n",
    "\n",
    "여기서는 strides가 1씩이기 때문에 같은 결과가 나온다. 만약 strides size를 변화시키면 어떤 변화가 생기는지 확인해 보라. \n",
    "\n",
    "##Strides\n",
    "strides=[1,2,1,1] #가로로 2씩 이동하는 경우"
   ]
  },
  {
   "cell_type": "code",
   "execution_count": 85,
   "metadata": {},
   "outputs": [
    {
     "name": "stdout",
     "output_type": "stream",
     "text": [
      "(1, 1, 2, 1)\n",
      "[[[[4.]\n",
      "   [3.]]]]\n"
     ]
    }
   ],
   "source": [
    "import tensorflow as tf\n",
    "import numpy as np\n",
    "image = np.array([\n",
    "                  [\n",
    "                    [[4.],[3.]],\n",
    "                    [[2.],[1.]]\n",
    "                  ]\n",
    "                 ],dtype=np.float32)\n",
    "image_mp=tf.nn.max_pool(image, ksize=[1,2,2,1],strides=[1, 2, 1, 1],\n",
    "                        padding=\"SAME\")\n",
    "print(image_mp.shape)\n",
    "print(image_mp.eval())"
   ]
  },
  {
   "cell_type": "code",
   "execution_count": 86,
   "metadata": {},
   "outputs": [],
   "source": [
    "strides=[1,1,2,1] #세로로 2씩 이동하는 경우"
   ]
  },
  {
   "cell_type": "code",
   "execution_count": 90,
   "metadata": {},
   "outputs": [
    {
     "name": "stdout",
     "output_type": "stream",
     "text": [
      "(1, 2, 1, 1)\n",
      "[[[[4.]]\n",
      "\n",
      "  [[2.]]]]\n"
     ]
    }
   ],
   "source": [
    "import tensorflow as tf\n",
    "import numpy as np\n",
    "image = np.array([\n",
    "                  [\n",
    "                    [[4.],[3.]],\n",
    "                    [[2.],[1.]]\n",
    "                  ]\n",
    "                 ],dtype=np.float32)\n",
    "image_mp=tf.nn.max_pool(image, ksize=[1,2,2,1],strides=[1, 1, 2, 1],\n",
    "                        padding=\"SAME\")\n",
    "print(image_mp.shape)\n",
    "print(image_mp.eval())"
   ]
  },
  {
   "cell_type": "markdown",
   "metadata": {},
   "source": [
    "## Max pooling의 동작원리\n",
    "\n",
    "원래 Max Pooling은 size를 줄이는 효과가 있다. 그래서, Strides를 [1,n1,n2,1]로 하면, 가로크기가 1/n1로, 세로크기가 1/n2로 줄어든다.\n",
    "물론, ksize도 [1,n1,n2,1]로 맞추어주는 것이 일반적이다.\n",
    "\n",
    "아래 예의 경우, 이미지가 1,2,3,4로 바꾸었는데 결과는 모두 4로 나온다. 이는 max pooling의 오류를 만들 수 있다는 점이다."
   ]
  },
  {
   "cell_type": "code",
   "execution_count": 97,
   "metadata": {
    "scrolled": true
   },
   "outputs": [
    {
     "name": "stdout",
     "output_type": "stream",
     "text": [
      "(1, 2, 2, 1)\n",
      "[[[[4.]\n",
      "   [4.]]\n",
      "\n",
      "  [[4.]\n",
      "   [4.]]]]\n"
     ]
    }
   ],
   "source": [
    "import tensorflow as tf\n",
    "import numpy as np\n",
    "image = np.array([[[[1.],[2.]],\n",
    "                   [[3.],[4.]]]],dtype=np.float32)\n",
    "image_mp=tf.nn.max_pool(image, ksize=[1,2,2,1],strides=[1, 1, 1, 1],\n",
    "                        padding=\"SAME\")\n",
    "print(image_mp.shape)\n",
    "print(image_mp.eval())"
   ]
  },
  {
   "cell_type": "markdown",
   "metadata": {},
   "source": [
    "# CNN으로 MNIST DATA 분류하기\n",
    "## MNIST DATA 불러오기\n",
    "MNIST data는 손글씨 이미지 데이터세트이다. 얀 르쿤, 코리나 콜테츠, 버그즈에 의해 작성되었다. (http://yann.lecun.com/exdb/mnist/ 참조)\n",
    "tensorflow에서 손쉽게 불러오기하여 작성한 모델의 성능을 테스트할 수 있다.\n",
    "아래는 mnist를 활용하는 예를 보여준다."
   ]
  },
  {
   "cell_type": "code",
   "execution_count": 19,
   "metadata": {
    "scrolled": true
   },
   "outputs": [],
   "source": [
    "from tensorflow.keras.datasets import mnist\n",
    "(x_train, y_train),(x_test,y_test) = mnist.load_data()"
   ]
  },
  {
   "cell_type": "code",
   "execution_count": 28,
   "metadata": {
    "scrolled": true
   },
   "outputs": [
    {
     "data": {
      "text/plain": [
       "<matplotlib.image.AxesImage at 0x14ae869e8>"
      ]
     },
     "execution_count": 28,
     "metadata": {},
     "output_type": "execute_result"
    },
    {
     "data": {
      "image/png": "[encoded data removed]",
      "text/plain": [
       "<Figure size 432x288 with 1 Axes>"
      ]
     },
     "metadata": {
      "needs_background": "light"
     },
     "output_type": "display_data"
    }
   ],
   "source": [
    "img0 = x_train[0].reshape(28,28)\n",
    "plt.imshow(img0, cmap='gray')"
   ]
  },
  {
   "cell_type": "code",
   "execution_count": 30,
   "metadata": {
    "scrolled": true
   },
   "outputs": [
    {
     "name": "stderr",
     "output_type": "stream",
     "text": [
      "/Library/Frameworks/Python.framework/Versions/3.7/lib/python3.7/site-packages/tensorflow/python/client/session.py:1702: UserWarning: An interactive session is already active. This can cause out-of-memory errors in some cases. You must explicitly call `InteractiveSession.close()` to release resources held by the other session(s).\n",
      "  warnings.warn('An interactive session is already active. This can '\n"
     ]
    },
    {
     "name": "stdout",
     "output_type": "stream",
     "text": [
      "Tensor(\"Conv2D_27:0\", shape=(1, 14, 14, 6), dtype=float32)\n"
     ]
    },
    {
     "data": {
      "image/png": "[encoded data removed]",
      "text/plain": [
       "<Figure size 432x288 with 6 Axes>"
      ]
     },
     "metadata": {
      "needs_background": "light"
     },
     "output_type": "display_data"
    }
   ],
   "source": [
    "sess = tf.InteractiveSession()\n",
    "\n",
    "img = tf.cast(tf.reshape(img,[-1,28,28,1]),tf.float32)\n",
    "#print(img)\n",
    "#img=tf.cast(img, tf.float32)\n",
    "#print(img)\n",
    "# W1 weight 즉, filter를 설정해라.\n",
    "# 초기화가 중요하다. 초기화에서 초기치 설정방법과 크기가 중요하다. \n",
    "# 크기의 의미는 (필터 가로크기, 필터 세로크기, 색깔 channel, 필터개수)\n",
    "# 초기화는 표준편차 0.1의 정규분포(random)로 생성하라.\n",
    "W1=tf.Variable(tf.random_normal([3,3,1,6], stddev=0.03))\n",
    "#conv2d의 인자의미는 (conv할 이미지, filter, strides, padding)\n",
    "conv_layer = tf.nn.conv2d(img,W1,strides=[1,2,2,1], padding=\"SAME\")\n",
    "print(conv_layer)\n",
    "sess.run(tf.global_variables_initializer())\n",
    "conved_img = conv_layer.eval()\n",
    "conved_img = np.swapaxes(conved_img,0,3)\n",
    "for i, one_img in enumerate(conved_img):\n",
    "    plt.subplot(1,6,i+1), plt.imshow(one_img.reshape(14,14), cmap='gray')"
   ]
  },
  {
   "cell_type": "code",
   "execution_count": 31,
   "metadata": {
    "scrolled": true
   },
   "outputs": [
    {
     "name": "stdout",
     "output_type": "stream",
     "text": [
      "Tensor(\"MaxPool_19:0\", shape=(1, 7, 7, 6), dtype=float32)\n"
     ]
    },
    {
     "data": {
      "image/png": "[encoded data removed]",
      "text/plain": [
       "<Figure size 432x288 with 6 Axes>"
      ]
     },
     "metadata": {
      "needs_background": "light"
     },
     "output_type": "display_data"
    }
   ],
   "source": [
    "#MNIST Max pooling\n",
    "# max_pool 함수의 인자의미는 (입력이미지, max_pool필터사이즈, strides, padding)\n",
    "conved_img=conved_img.reshape(-1,14,14,6)\n",
    "max_pool_layer = tf.nn.max_pool(conved_img, ksize=[1,2,2,1], \n",
    "                            strides=[1,2,2,1], padding='VALID')\n",
    "print(max_pool_layer)\n",
    "sess.run(tf.global_variables_initializer())\n",
    "max_pooled_img = max_pool_layer.eval()\n",
    "max_pooled_img = np.swapaxes(max_pooled_img, 0, 3)\n",
    "for i, one_img in enumerate(max_pooled_img):\n",
    "    plt.subplot(1,6, i+1), plt.imshow(one_img.reshape(7,7), cmap='gray')"
   ]
  },
  {
   "cell_type": "code",
   "execution_count": 32,
   "metadata": {},
   "outputs": [
    {
     "name": "stdout",
     "output_type": "stream",
     "text": [
      "Extracting MNIST_data/train-images-idx3-ubyte.gz\n",
      "Extracting MNIST_data/train-labels-idx1-ubyte.gz\n",
      "Extracting MNIST_data/t10k-images-idx3-ubyte.gz\n",
      "Extracting MNIST_data/t10k-labels-idx1-ubyte.gz\n"
     ]
    }
   ],
   "source": [
    "#from tensorflow.keras.datasets import mnist\n",
    "#(x_train, y_train),(x_test,y_test) = mnist.load_data()\n",
    "from tensorflow.examples.tutorials.mnist import input_data\n",
    "\n",
    "mnist = input_data.read_data_sets(\"MNIST_data/\", one_hot=True)\n",
    "#batch_xs, bat_ys = mnist.train.next_batch(100)"
   ]
  },
  {
   "cell_type": "markdown",
   "metadata": {},
   "source": [
    "## 본격적으로 CNN으로 MNIST데이터 분류하기\n",
    "\n",
    "### CNN의 구조\n",
    " 입력자료는 [None, 28, 28, 1]이다. \n"
   ]
  },
  {
   "cell_type": "code",
   "execution_count": 33,
   "metadata": {
    "scrolled": true
   },
   "outputs": [
    {
     "name": "stdout",
     "output_type": "stream",
     "text": [
      "Epoch: 0001 cost = 0.279568226\n",
      "Epoch: 0002 cost = 0.086532600\n",
      "Epoch: 0003 cost = 0.061857335\n",
      "Epoch: 0004 cost = 0.048856902\n",
      "Epoch: 0005 cost = 0.041343786\n",
      "Epoch: 0006 cost = 0.034895854\n",
      "Epoch: 0007 cost = 0.028989839\n",
      "Epoch: 0008 cost = 0.025596548\n",
      "Epoch: 0009 cost = 0.021955364\n",
      "Epoch: 0010 cost = 0.019150648\n",
      "Epoch: 0011 cost = 0.016451509\n",
      "Epoch: 0012 cost = 0.013961930\n",
      "Epoch: 0013 cost = 0.012442831\n",
      "Epoch: 0014 cost = 0.011642529\n",
      "Epoch: 0015 cost = 0.008668751\n",
      "Learning Finished!\n",
      "Accuracy: 0.9849\n"
     ]
    }
   ],
   "source": [
    "\n",
    "#input placeholders\n",
    "X = tf.placeholder(tf.float32, [None, 784])\n",
    "X_img = tf.reshape(X, [-1, 28, 28, 1])\n",
    "\n",
    "Y = tf.placeholder(tf.float32, [None, 10])\n",
    "\n",
    "#Conv L1 ImgIn shape=(?, 28, 28, 1)\n",
    "# Filter W1 size=[3,3,1,6]\n",
    "W1 = tf.Variable(tf.random_normal([3,3,1, 32],stddev=0.03))\n",
    "\n",
    "#L1\n",
    "L1 = tf.nn.conv2d(X_img, W1, strides=[1,1,1,1], padding='SAME')\n",
    "L1_img = tf.nn.relu(L1)\n",
    "\n",
    "#Max pooling MP1 size \n",
    "MP1 = tf.nn.max_pool(L1_img, ksize=[1,2,2,1], strides=[1,2,2,1], padding='SAME')\n",
    "\n",
    "#Conv L2 ImgIn shape\n",
    "#Filter W2 size\n",
    "W2 = tf.Variable(tf.random_normal([3,3,32, 64],stddev=0.03))\n",
    "\n",
    "#L2\n",
    "L2 = tf.nn.conv2d(MP1, W2, strides=[1,1,1,1], padding='SAME')\n",
    "L2_img = tf.nn.relu(L2)\n",
    "\n",
    "#MP2\n",
    "MP2 = tf.nn.max_pool(L2_img, ksize=[1,2,2,1], strides=[1,2,2,1], padding='SAME')\n",
    "MP2 = tf.reshape(MP2, [-1, 7 * 7 * 64])\n",
    "\n",
    "W3=tf.Variable(tf.random_normal([7*7*64,10]))\n",
    "b = tf.Variable(tf.random_normal([10]))\n",
    "#몇몇 곳에서는 prediction 혹은 result라고 하기도 한다. hypothesis는 가설로 번역될 수 있고, 예상되는 값이라는 의미이다.\n",
    "hypothesis = tf.matmul(MP2,W3)+b\n",
    "learning_rate = 0.001\n",
    "cost = tf.reduce_mean(tf.nn.softmax_cross_entropy_with_logits(logits=hypothesis, labels=Y))\n",
    "optimizer = tf.train.AdamOptimizer(learning_rate=learning_rate).minimize(cost)\n",
    "\n",
    "#Training and Evaluation\n",
    "#initialize\n",
    "sess = tf.Session()\n",
    "sess.run(tf.global_variables_initializer())\n",
    "\n",
    "training_epochs = 15\n",
    "batch_size = 100\n",
    "for epoch in range(training_epochs):\n",
    "    average_cost = 0\n",
    "    total_batch = int(mnist.train.num_examples / batch_size)\n",
    "    for i in range(total_batch):\n",
    "        batch_xs, batch_ys = mnist.train.next_batch(batch_size)\n",
    "        feed_dict = {X: batch_xs, Y: batch_ys}\n",
    "        c, _, = sess.run ([cost, optimizer], feed_dict=feed_dict)\n",
    "        average_cost += c /total_batch\n",
    "    print('Epoch:', \"%04d\" % (epoch + 1), 'cost =', '{:.9f}'.format(average_cost))\n",
    "                \n",
    "print('Learning Finished!')\n",
    "                \n",
    "correct_prediction = tf.equal(tf.argmax(hypothesis, 1), tf.argmax(Y,1))\n",
    "accuracy = tf.reduce_mean(tf.cast(correct_prediction, tf.float32))\n",
    "print('Accuracy:', sess.run(accuracy, feed_dict={X:mnist.test.images, Y:mnist.test.labels}))"
   ]
  },
  {
   "cell_type": "code",
   "execution_count": 37,
   "metadata": {},
   "outputs": [
    {
     "ename": "InvalidArgumentError",
     "evalue": "Input to reshape is a tensor with 313600 values, but the requested shape requires a multiple of 2048\n\t [[node Reshape_38 (defined at <ipython-input-37-b12e1d349faf>:41) ]]\n\nCaused by op 'Reshape_38', defined at:\n  File \"/Library/Frameworks/Python.framework/Versions/3.7/lib/python3.7/runpy.py\", line 193, in _run_module_as_main\n    \"__main__\", mod_spec)\n  File \"/Library/Frameworks/Python.framework/Versions/3.7/lib/python3.7/runpy.py\", line 85, in _run_code\n    exec(code, run_globals)\n  File \"/Library/Frameworks/Python.framework/Versions/3.7/lib/python3.7/site-packages/ipykernel_launcher.py\", line 16, in <module>\n    app.launch_new_instance()\n  File \"/Library/Frameworks/Python.framework/Versions/3.7/lib/python3.7/site-packages/traitlets/config/application.py\", line 658, in launch_instance\n    app.start()\n  File \"/Library/Frameworks/Python.framework/Versions/3.7/lib/python3.7/site-packages/ipykernel/kernelapp.py\", line 505, in start\n    self.io_loop.start()\n  File \"/Library/Frameworks/Python.framework/Versions/3.7/lib/python3.7/site-packages/tornado/platform/asyncio.py\", line 132, in start\n    self.asyncio_loop.run_forever()\n  File \"/Library/Frameworks/Python.framework/Versions/3.7/lib/python3.7/asyncio/base_events.py\", line 539, in run_forever\n    self._run_once()\n  File \"/Library/Frameworks/Python.framework/Versions/3.7/lib/python3.7/asyncio/base_events.py\", line 1775, in _run_once\n    handle._run()\n  File \"/Library/Frameworks/Python.framework/Versions/3.7/lib/python3.7/asyncio/events.py\", line 88, in _run\n    self._context.run(self._callback, *self._args)\n  File \"/Library/Frameworks/Python.framework/Versions/3.7/lib/python3.7/site-packages/tornado/ioloop.py\", line 758, in _run_callback\n    ret = callback()\n  File \"/Library/Frameworks/Python.framework/Versions/3.7/lib/python3.7/site-packages/tornado/stack_context.py\", line 300, in null_wrapper\n    return fn(*args, **kwargs)\n  File \"/Library/Frameworks/Python.framework/Versions/3.7/lib/python3.7/site-packages/tornado/gen.py\", line 1233, in inner\n    self.run()\n  File \"/Library/Frameworks/Python.framework/Versions/3.7/lib/python3.7/site-packages/tornado/gen.py\", line 1147, in run\n    yielded = self.gen.send(value)\n  File \"/Library/Frameworks/Python.framework/Versions/3.7/lib/python3.7/site-packages/ipykernel/kernelbase.py\", line 357, in process_one\n    yield gen.maybe_future(dispatch(*args))\n  File \"/Library/Frameworks/Python.framework/Versions/3.7/lib/python3.7/site-packages/tornado/gen.py\", line 326, in wrapper\n    yielded = next(result)\n  File \"/Library/Frameworks/Python.framework/Versions/3.7/lib/python3.7/site-packages/ipykernel/kernelbase.py\", line 267, in dispatch_shell\n    yield gen.maybe_future(handler(stream, idents, msg))\n  File \"/Library/Frameworks/Python.framework/Versions/3.7/lib/python3.7/site-packages/tornado/gen.py\", line 326, in wrapper\n    yielded = next(result)\n  File \"/Library/Frameworks/Python.framework/Versions/3.7/lib/python3.7/site-packages/ipykernel/kernelbase.py\", line 534, in execute_request\n    user_expressions, allow_stdin,\n  File \"/Library/Frameworks/Python.framework/Versions/3.7/lib/python3.7/site-packages/tornado/gen.py\", line 326, in wrapper\n    yielded = next(result)\n  File \"/Library/Frameworks/Python.framework/Versions/3.7/lib/python3.7/site-packages/ipykernel/ipkernel.py\", line 294, in do_execute\n    res = shell.run_cell(code, store_history=store_history, silent=silent)\n  File \"/Library/Frameworks/Python.framework/Versions/3.7/lib/python3.7/site-packages/ipykernel/zmqshell.py\", line 536, in run_cell\n    return super(ZMQInteractiveShell, self).run_cell(*args, **kwargs)\n  File \"/Library/Frameworks/Python.framework/Versions/3.7/lib/python3.7/site-packages/IPython/core/interactiveshell.py\", line 2843, in run_cell\n    raw_cell, store_history, silent, shell_futures)\n  File \"/Library/Frameworks/Python.framework/Versions/3.7/lib/python3.7/site-packages/IPython/core/interactiveshell.py\", line 2869, in _run_cell\n    return runner(coro)\n  File \"/Library/Frameworks/Python.framework/Versions/3.7/lib/python3.7/site-packages/IPython/core/async_helpers.py\", line 67, in _pseudo_sync_runner\n    coro.send(None)\n  File \"/Library/Frameworks/Python.framework/Versions/3.7/lib/python3.7/site-packages/IPython/core/interactiveshell.py\", line 3044, in run_cell_async\n    interactivity=interactivity, compiler=compiler, result=result)\n  File \"/Library/Frameworks/Python.framework/Versions/3.7/lib/python3.7/site-packages/IPython/core/interactiveshell.py\", line 3209, in run_ast_nodes\n    if (yield from self.run_code(code, result)):\n  File \"/Library/Frameworks/Python.framework/Versions/3.7/lib/python3.7/site-packages/IPython/core/interactiveshell.py\", line 3291, in run_code\n    exec(code_obj, self.user_global_ns, self.user_ns)\n  File \"<ipython-input-37-b12e1d349faf>\", line 41, in <module>\n    MP3 = tf.reshape(MP3, [-1, 4 * 4 * 128])\n  File \"/Library/Frameworks/Python.framework/Versions/3.7/lib/python3.7/site-packages/tensorflow/python/ops/gen_array_ops.py\", line 7179, in reshape\n    \"Reshape\", tensor=tensor, shape=shape, name=name)\n  File \"/Library/Frameworks/Python.framework/Versions/3.7/lib/python3.7/site-packages/tensorflow/python/framework/op_def_library.py\", line 788, in _apply_op_helper\n    op_def=op_def)\n  File \"/Library/Frameworks/Python.framework/Versions/3.7/lib/python3.7/site-packages/tensorflow/python/util/deprecation.py\", line 507, in new_func\n    return func(*args, **kwargs)\n  File \"/Library/Frameworks/Python.framework/Versions/3.7/lib/python3.7/site-packages/tensorflow/python/framework/ops.py\", line 3300, in create_op\n    op_def=op_def)\n  File \"/Library/Frameworks/Python.framework/Versions/3.7/lib/python3.7/site-packages/tensorflow/python/framework/ops.py\", line 1801, in __init__\n    self._traceback = tf_stack.extract_stack()\n\nInvalidArgumentError (see above for traceback): Input to reshape is a tensor with 313600 values, but the requested shape requires a multiple of 2048\n\t [[node Reshape_38 (defined at <ipython-input-37-b12e1d349faf>:41) ]]\n",
     "output_type": "error",
     "traceback": [
      "\u001b[0;31m---------------------------------------------------------------------------\u001b[0m",
      "\u001b[0;31mInvalidArgumentError\u001b[0m                      Traceback (most recent call last)",
      "\u001b[0;32m/Library/Frameworks/Python.framework/Versions/3.7/lib/python3.7/site-packages/tensorflow/python/client/session.py\u001b[0m in \u001b[0;36m_do_call\u001b[0;34m(self, fn, *args)\u001b[0m\n\u001b[1;32m   1333\u001b[0m     \u001b[0;32mtry\u001b[0m\u001b[0;34m:\u001b[0m\u001b[0;34m\u001b[0m\u001b[0;34m\u001b[0m\u001b[0m\n\u001b[0;32m-> 1334\u001b[0;31m       \u001b[0;32mreturn\u001b[0m \u001b[0mfn\u001b[0m\u001b[0;34m(\u001b[0m\u001b[0;34m*\u001b[0m\u001b[0margs\u001b[0m\u001b[0;34m)\u001b[0m\u001b[0;34m\u001b[0m\u001b[0;34m\u001b[0m\u001b[0m\n\u001b[0m\u001b[1;32m   1335\u001b[0m     \u001b[0;32mexcept\u001b[0m \u001b[0merrors\u001b[0m\u001b[0;34m.\u001b[0m\u001b[0mOpError\u001b[0m \u001b[0;32mas\u001b[0m \u001b[0me\u001b[0m\u001b[0;34m:\u001b[0m\u001b[0;34m\u001b[0m\u001b[0;34m\u001b[0m\u001b[0m\n",
      "\u001b[0;32m/Library/Frameworks/Python.framework/Versions/3.7/lib/python3.7/site-packages/tensorflow/python/client/session.py\u001b[0m in \u001b[0;36m_run_fn\u001b[0;34m(feed_dict, fetch_list, target_list, options, run_metadata)\u001b[0m\n\u001b[1;32m   1318\u001b[0m       return self._call_tf_sessionrun(\n\u001b[0;32m-> 1319\u001b[0;31m           options, feed_dict, fetch_list, target_list, run_metadata)\n\u001b[0m\u001b[1;32m   1320\u001b[0m \u001b[0;34m\u001b[0m\u001b[0m\n",
      "\u001b[0;32m/Library/Frameworks/Python.framework/Versions/3.7/lib/python3.7/site-packages/tensorflow/python/client/session.py\u001b[0m in \u001b[0;36m_call_tf_sessionrun\u001b[0;34m(self, options, feed_dict, fetch_list, target_list, run_metadata)\u001b[0m\n\u001b[1;32m   1406\u001b[0m         \u001b[0mself\u001b[0m\u001b[0;34m.\u001b[0m\u001b[0m_session\u001b[0m\u001b[0;34m,\u001b[0m \u001b[0moptions\u001b[0m\u001b[0;34m,\u001b[0m \u001b[0mfeed_dict\u001b[0m\u001b[0;34m,\u001b[0m \u001b[0mfetch_list\u001b[0m\u001b[0;34m,\u001b[0m \u001b[0mtarget_list\u001b[0m\u001b[0;34m,\u001b[0m\u001b[0;34m\u001b[0m\u001b[0;34m\u001b[0m\u001b[0m\n\u001b[0;32m-> 1407\u001b[0;31m         run_metadata)\n\u001b[0m\u001b[1;32m   1408\u001b[0m \u001b[0;34m\u001b[0m\u001b[0m\n",
      "\u001b[0;31mInvalidArgumentError\u001b[0m: Input to reshape is a tensor with 313600 values, but the requested shape requires a multiple of 2048\n\t [[{{node Reshape_38}}]]",
      "\nDuring handling of the above exception, another exception occurred:\n",
      "\u001b[0;31mInvalidArgumentError\u001b[0m                      Traceback (most recent call last)",
      "\u001b[0;32m<ipython-input-37-b12e1d349faf>\u001b[0m in \u001b[0;36m<module>\u001b[0;34m\u001b[0m\n\u001b[1;32m     61\u001b[0m         \u001b[0mbatch_xs\u001b[0m\u001b[0;34m,\u001b[0m \u001b[0mbatch_ys\u001b[0m \u001b[0;34m=\u001b[0m \u001b[0mmnist\u001b[0m\u001b[0;34m.\u001b[0m\u001b[0mtrain\u001b[0m\u001b[0;34m.\u001b[0m\u001b[0mnext_batch\u001b[0m\u001b[0;34m(\u001b[0m\u001b[0mbatch_size\u001b[0m\u001b[0;34m)\u001b[0m\u001b[0;34m\u001b[0m\u001b[0;34m\u001b[0m\u001b[0m\n\u001b[1;32m     62\u001b[0m         \u001b[0mfeed_dict\u001b[0m \u001b[0;34m=\u001b[0m \u001b[0;34m{\u001b[0m\u001b[0mX\u001b[0m\u001b[0;34m:\u001b[0m \u001b[0mbatch_xs\u001b[0m\u001b[0;34m,\u001b[0m \u001b[0mY\u001b[0m\u001b[0;34m:\u001b[0m \u001b[0mbatch_ys\u001b[0m\u001b[0;34m}\u001b[0m\u001b[0;34m\u001b[0m\u001b[0;34m\u001b[0m\u001b[0m\n\u001b[0;32m---> 63\u001b[0;31m         \u001b[0mc\u001b[0m\u001b[0;34m,\u001b[0m \u001b[0m_\u001b[0m\u001b[0;34m,\u001b[0m \u001b[0;34m=\u001b[0m \u001b[0msess\u001b[0m\u001b[0;34m.\u001b[0m\u001b[0mrun\u001b[0m \u001b[0;34m(\u001b[0m\u001b[0;34m[\u001b[0m\u001b[0mcost\u001b[0m\u001b[0;34m,\u001b[0m \u001b[0moptimizer\u001b[0m\u001b[0;34m]\u001b[0m\u001b[0;34m,\u001b[0m \u001b[0mfeed_dict\u001b[0m\u001b[0;34m=\u001b[0m\u001b[0mfeed_dict\u001b[0m\u001b[0;34m)\u001b[0m\u001b[0;34m\u001b[0m\u001b[0;34m\u001b[0m\u001b[0m\n\u001b[0m\u001b[1;32m     64\u001b[0m         \u001b[0maverage_cost\u001b[0m \u001b[0;34m+=\u001b[0m \u001b[0mc\u001b[0m \u001b[0;34m/\u001b[0m\u001b[0mtotal_batch\u001b[0m\u001b[0;34m\u001b[0m\u001b[0;34m\u001b[0m\u001b[0m\n\u001b[1;32m     65\u001b[0m     \u001b[0mprint\u001b[0m\u001b[0;34m(\u001b[0m\u001b[0;34m'Epoch:'\u001b[0m\u001b[0;34m,\u001b[0m \u001b[0;34m\"%04d\"\u001b[0m \u001b[0;34m%\u001b[0m \u001b[0;34m(\u001b[0m\u001b[0mepoch\u001b[0m \u001b[0;34m+\u001b[0m \u001b[0;36m1\u001b[0m\u001b[0;34m)\u001b[0m\u001b[0;34m,\u001b[0m \u001b[0;34m'cost ='\u001b[0m\u001b[0;34m,\u001b[0m \u001b[0;34m'{:.9f}'\u001b[0m\u001b[0;34m.\u001b[0m\u001b[0mformat\u001b[0m\u001b[0;34m(\u001b[0m\u001b[0maverage_cost\u001b[0m\u001b[0;34m)\u001b[0m\u001b[0;34m)\u001b[0m\u001b[0;34m\u001b[0m\u001b[0;34m\u001b[0m\u001b[0m\n",
      "\u001b[0;32m/Library/Frameworks/Python.framework/Versions/3.7/lib/python3.7/site-packages/tensorflow/python/client/session.py\u001b[0m in \u001b[0;36mrun\u001b[0;34m(self, fetches, feed_dict, options, run_metadata)\u001b[0m\n\u001b[1;32m    927\u001b[0m     \u001b[0;32mtry\u001b[0m\u001b[0;34m:\u001b[0m\u001b[0;34m\u001b[0m\u001b[0;34m\u001b[0m\u001b[0m\n\u001b[1;32m    928\u001b[0m       result = self._run(None, fetches, feed_dict, options_ptr,\n\u001b[0;32m--> 929\u001b[0;31m                          run_metadata_ptr)\n\u001b[0m\u001b[1;32m    930\u001b[0m       \u001b[0;32mif\u001b[0m \u001b[0mrun_metadata\u001b[0m\u001b[0;34m:\u001b[0m\u001b[0;34m\u001b[0m\u001b[0;34m\u001b[0m\u001b[0m\n\u001b[1;32m    931\u001b[0m         \u001b[0mproto_data\u001b[0m \u001b[0;34m=\u001b[0m \u001b[0mtf_session\u001b[0m\u001b[0;34m.\u001b[0m\u001b[0mTF_GetBuffer\u001b[0m\u001b[0;34m(\u001b[0m\u001b[0mrun_metadata_ptr\u001b[0m\u001b[0;34m)\u001b[0m\u001b[0;34m\u001b[0m\u001b[0;34m\u001b[0m\u001b[0m\n",
      "\u001b[0;32m/Library/Frameworks/Python.framework/Versions/3.7/lib/python3.7/site-packages/tensorflow/python/client/session.py\u001b[0m in \u001b[0;36m_run\u001b[0;34m(self, handle, fetches, feed_dict, options, run_metadata)\u001b[0m\n\u001b[1;32m   1150\u001b[0m     \u001b[0;32mif\u001b[0m \u001b[0mfinal_fetches\u001b[0m \u001b[0;32mor\u001b[0m \u001b[0mfinal_targets\u001b[0m \u001b[0;32mor\u001b[0m \u001b[0;34m(\u001b[0m\u001b[0mhandle\u001b[0m \u001b[0;32mand\u001b[0m \u001b[0mfeed_dict_tensor\u001b[0m\u001b[0;34m)\u001b[0m\u001b[0;34m:\u001b[0m\u001b[0;34m\u001b[0m\u001b[0;34m\u001b[0m\u001b[0m\n\u001b[1;32m   1151\u001b[0m       results = self._do_run(handle, final_targets, final_fetches,\n\u001b[0;32m-> 1152\u001b[0;31m                              feed_dict_tensor, options, run_metadata)\n\u001b[0m\u001b[1;32m   1153\u001b[0m     \u001b[0;32melse\u001b[0m\u001b[0;34m:\u001b[0m\u001b[0;34m\u001b[0m\u001b[0;34m\u001b[0m\u001b[0m\n\u001b[1;32m   1154\u001b[0m       \u001b[0mresults\u001b[0m \u001b[0;34m=\u001b[0m \u001b[0;34m[\u001b[0m\u001b[0;34m]\u001b[0m\u001b[0;34m\u001b[0m\u001b[0;34m\u001b[0m\u001b[0m\n",
      "\u001b[0;32m/Library/Frameworks/Python.framework/Versions/3.7/lib/python3.7/site-packages/tensorflow/python/client/session.py\u001b[0m in \u001b[0;36m_do_run\u001b[0;34m(self, handle, target_list, fetch_list, feed_dict, options, run_metadata)\u001b[0m\n\u001b[1;32m   1326\u001b[0m     \u001b[0;32mif\u001b[0m \u001b[0mhandle\u001b[0m \u001b[0;32mis\u001b[0m \u001b[0;32mNone\u001b[0m\u001b[0;34m:\u001b[0m\u001b[0;34m\u001b[0m\u001b[0;34m\u001b[0m\u001b[0m\n\u001b[1;32m   1327\u001b[0m       return self._do_call(_run_fn, feeds, fetches, targets, options,\n\u001b[0;32m-> 1328\u001b[0;31m                            run_metadata)\n\u001b[0m\u001b[1;32m   1329\u001b[0m     \u001b[0;32melse\u001b[0m\u001b[0;34m:\u001b[0m\u001b[0;34m\u001b[0m\u001b[0;34m\u001b[0m\u001b[0m\n\u001b[1;32m   1330\u001b[0m       \u001b[0;32mreturn\u001b[0m \u001b[0mself\u001b[0m\u001b[0;34m.\u001b[0m\u001b[0m_do_call\u001b[0m\u001b[0;34m(\u001b[0m\u001b[0m_prun_fn\u001b[0m\u001b[0;34m,\u001b[0m \u001b[0mhandle\u001b[0m\u001b[0;34m,\u001b[0m \u001b[0mfeeds\u001b[0m\u001b[0;34m,\u001b[0m \u001b[0mfetches\u001b[0m\u001b[0;34m)\u001b[0m\u001b[0;34m\u001b[0m\u001b[0;34m\u001b[0m\u001b[0m\n",
      "\u001b[0;32m/Library/Frameworks/Python.framework/Versions/3.7/lib/python3.7/site-packages/tensorflow/python/client/session.py\u001b[0m in \u001b[0;36m_do_call\u001b[0;34m(self, fn, *args)\u001b[0m\n\u001b[1;32m   1346\u001b[0m           \u001b[0;32mpass\u001b[0m\u001b[0;34m\u001b[0m\u001b[0;34m\u001b[0m\u001b[0m\n\u001b[1;32m   1347\u001b[0m       \u001b[0mmessage\u001b[0m \u001b[0;34m=\u001b[0m \u001b[0merror_interpolation\u001b[0m\u001b[0;34m.\u001b[0m\u001b[0minterpolate\u001b[0m\u001b[0;34m(\u001b[0m\u001b[0mmessage\u001b[0m\u001b[0;34m,\u001b[0m \u001b[0mself\u001b[0m\u001b[0;34m.\u001b[0m\u001b[0m_graph\u001b[0m\u001b[0;34m)\u001b[0m\u001b[0;34m\u001b[0m\u001b[0;34m\u001b[0m\u001b[0m\n\u001b[0;32m-> 1348\u001b[0;31m       \u001b[0;32mraise\u001b[0m \u001b[0mtype\u001b[0m\u001b[0;34m(\u001b[0m\u001b[0me\u001b[0m\u001b[0;34m)\u001b[0m\u001b[0;34m(\u001b[0m\u001b[0mnode_def\u001b[0m\u001b[0;34m,\u001b[0m \u001b[0mop\u001b[0m\u001b[0;34m,\u001b[0m \u001b[0mmessage\u001b[0m\u001b[0;34m)\u001b[0m\u001b[0;34m\u001b[0m\u001b[0;34m\u001b[0m\u001b[0m\n\u001b[0m\u001b[1;32m   1349\u001b[0m \u001b[0;34m\u001b[0m\u001b[0m\n\u001b[1;32m   1350\u001b[0m   \u001b[0;32mdef\u001b[0m \u001b[0m_extend_graph\u001b[0m\u001b[0;34m(\u001b[0m\u001b[0mself\u001b[0m\u001b[0;34m)\u001b[0m\u001b[0;34m:\u001b[0m\u001b[0;34m\u001b[0m\u001b[0;34m\u001b[0m\u001b[0m\n",
      "\u001b[0;31mInvalidArgumentError\u001b[0m: Input to reshape is a tensor with 313600 values, but the requested shape requires a multiple of 2048\n\t [[node Reshape_38 (defined at <ipython-input-37-b12e1d349faf>:41) ]]\n\nCaused by op 'Reshape_38', defined at:\n  File \"/Library/Frameworks/Python.framework/Versions/3.7/lib/python3.7/runpy.py\", line 193, in _run_module_as_main\n    \"__main__\", mod_spec)\n  File \"/Library/Frameworks/Python.framework/Versions/3.7/lib/python3.7/runpy.py\", line 85, in _run_code\n    exec(code, run_globals)\n  File \"/Library/Frameworks/Python.framework/Versions/3.7/lib/python3.7/site-packages/ipykernel_launcher.py\", line 16, in <module>\n    app.launch_new_instance()\n  File \"/Library/Frameworks/Python.framework/Versions/3.7/lib/python3.7/site-packages/traitlets/config/application.py\", line 658, in launch_instance\n    app.start()\n  File \"/Library/Frameworks/Python.framework/Versions/3.7/lib/python3.7/site-packages/ipykernel/kernelapp.py\", line 505, in start\n    self.io_loop.start()\n  File \"/Library/Frameworks/Python.framework/Versions/3.7/lib/python3.7/site-packages/tornado/platform/asyncio.py\", line 132, in start\n    self.asyncio_loop.run_forever()\n  File \"/Library/Frameworks/Python.framework/Versions/3.7/lib/python3.7/asyncio/base_events.py\", line 539, in run_forever\n    self._run_once()\n  File \"/Library/Frameworks/Python.framework/Versions/3.7/lib/python3.7/asyncio/base_events.py\", line 1775, in _run_once\n    handle._run()\n  File \"/Library/Frameworks/Python.framework/Versions/3.7/lib/python3.7/asyncio/events.py\", line 88, in _run\n    self._context.run(self._callback, *self._args)\n  File \"/Library/Frameworks/Python.framework/Versions/3.7/lib/python3.7/site-packages/tornado/ioloop.py\", line 758, in _run_callback\n    ret = callback()\n  File \"/Library/Frameworks/Python.framework/Versions/3.7/lib/python3.7/site-packages/tornado/stack_context.py\", line 300, in null_wrapper\n    return fn(*args, **kwargs)\n  File \"/Library/Frameworks/Python.framework/Versions/3.7/lib/python3.7/site-packages/tornado/gen.py\", line 1233, in inner\n    self.run()\n  File \"/Library/Frameworks/Python.framework/Versions/3.7/lib/python3.7/site-packages/tornado/gen.py\", line 1147, in run\n    yielded = self.gen.send(value)\n  File \"/Library/Frameworks/Python.framework/Versions/3.7/lib/python3.7/site-packages/ipykernel/kernelbase.py\", line 357, in process_one\n    yield gen.maybe_future(dispatch(*args))\n  File \"/Library/Frameworks/Python.framework/Versions/3.7/lib/python3.7/site-packages/tornado/gen.py\", line 326, in wrapper\n    yielded = next(result)\n  File \"/Library/Frameworks/Python.framework/Versions/3.7/lib/python3.7/site-packages/ipykernel/kernelbase.py\", line 267, in dispatch_shell\n    yield gen.maybe_future(handler(stream, idents, msg))\n  File \"/Library/Frameworks/Python.framework/Versions/3.7/lib/python3.7/site-packages/tornado/gen.py\", line 326, in wrapper\n    yielded = next(result)\n  File \"/Library/Frameworks/Python.framework/Versions/3.7/lib/python3.7/site-packages/ipykernel/kernelbase.py\", line 534, in execute_request\n    user_expressions, allow_stdin,\n  File \"/Library/Frameworks/Python.framework/Versions/3.7/lib/python3.7/site-packages/tornado/gen.py\", line 326, in wrapper\n    yielded = next(result)\n  File \"/Library/Frameworks/Python.framework/Versions/3.7/lib/python3.7/site-packages/ipykernel/ipkernel.py\", line 294, in do_execute\n    res = shell.run_cell(code, store_history=store_history, silent=silent)\n  File \"/Library/Frameworks/Python.framework/Versions/3.7/lib/python3.7/site-packages/ipykernel/zmqshell.py\", line 536, in run_cell\n    return super(ZMQInteractiveShell, self).run_cell(*args, **kwargs)\n  File \"/Library/Frameworks/Python.framework/Versions/3.7/lib/python3.7/site-packages/IPython/core/interactiveshell.py\", line 2843, in run_cell\n    raw_cell, store_history, silent, shell_futures)\n  File \"/Library/Frameworks/Python.framework/Versions/3.7/lib/python3.7/site-packages/IPython/core/interactiveshell.py\", line 2869, in _run_cell\n    return runner(coro)\n  File \"/Library/Frameworks/Python.framework/Versions/3.7/lib/python3.7/site-packages/IPython/core/async_helpers.py\", line 67, in _pseudo_sync_runner\n    coro.send(None)\n  File \"/Library/Frameworks/Python.framework/Versions/3.7/lib/python3.7/site-packages/IPython/core/interactiveshell.py\", line 3044, in run_cell_async\n    interactivity=interactivity, compiler=compiler, result=result)\n  File \"/Library/Frameworks/Python.framework/Versions/3.7/lib/python3.7/site-packages/IPython/core/interactiveshell.py\", line 3209, in run_ast_nodes\n    if (yield from self.run_code(code, result)):\n  File \"/Library/Frameworks/Python.framework/Versions/3.7/lib/python3.7/site-packages/IPython/core/interactiveshell.py\", line 3291, in run_code\n    exec(code_obj, self.user_global_ns, self.user_ns)\n  File \"<ipython-input-37-b12e1d349faf>\", line 41, in <module>\n    MP3 = tf.reshape(MP3, [-1, 4 * 4 * 128])\n  File \"/Library/Frameworks/Python.framework/Versions/3.7/lib/python3.7/site-packages/tensorflow/python/ops/gen_array_ops.py\", line 7179, in reshape\n    \"Reshape\", tensor=tensor, shape=shape, name=name)\n  File \"/Library/Frameworks/Python.framework/Versions/3.7/lib/python3.7/site-packages/tensorflow/python/framework/op_def_library.py\", line 788, in _apply_op_helper\n    op_def=op_def)\n  File \"/Library/Frameworks/Python.framework/Versions/3.7/lib/python3.7/site-packages/tensorflow/python/util/deprecation.py\", line 507, in new_func\n    return func(*args, **kwargs)\n  File \"/Library/Frameworks/Python.framework/Versions/3.7/lib/python3.7/site-packages/tensorflow/python/framework/ops.py\", line 3300, in create_op\n    op_def=op_def)\n  File \"/Library/Frameworks/Python.framework/Versions/3.7/lib/python3.7/site-packages/tensorflow/python/framework/ops.py\", line 1801, in __init__\n    self._traceback = tf_stack.extract_stack()\n\nInvalidArgumentError (see above for traceback): Input to reshape is a tensor with 313600 values, but the requested shape requires a multiple of 2048\n\t [[node Reshape_38 (defined at <ipython-input-37-b12e1d349faf>:41) ]]\n"
     ]
    }
   ],
   "source": [
    "\n",
    "#input placeholders\n",
    "X = tf.placeholder(tf.float32, [None, 784])\n",
    "X_img = tf.reshape(X, [-1, 28, 28, 1])\n",
    "\n",
    "Y = tf.placeholder(tf.float32, [None, 10])\n",
    "\n",
    "#Conv L1 ImgIn shape=(?, 28, 28, 1)\n",
    "# Filter W1 size=[3,3,1,6]\n",
    "W1 = tf.Variable(tf.random_normal([3,3,1, 32],stddev=0.03))\n",
    "\n",
    "#L1\n",
    "L1 = tf.nn.conv2d(X_img, W1, strides=[1,1,1,1], padding='SAME')\n",
    "L1_img = tf.nn.relu(L1)\n",
    "\n",
    "#Max pooling MP1 size \n",
    "MP1 = tf.nn.max_pool(L1_img, ksize=[1,2,2,1], strides=[1,2,2,1], padding='SAME')\n",
    "\n",
    "#Conv L2 ImgIn shape\n",
    "#Filter W2 size\n",
    "W2 = tf.Variable(tf.random_normal([3,3,32, 64],stddev=0.03))\n",
    "\n",
    "#L2\n",
    "L2 = tf.nn.conv2d(MP1, W2, strides=[1,1,1,1], padding='SAME')\n",
    "L2_img = tf.nn.relu(L2)\n",
    "\n",
    "#MP2\n",
    "MP2 = tf.nn.max_pool(L2_img, ksize=[1,2,2,1], strides=[1,2,2,1], padding='SAME')\n",
    "MP2 = tf.reshape(MP2, [-1, 7 * 7 * 64])\n",
    "\n",
    "#Conv L3 ImgIn shape\n",
    "#Filter W3 size\n",
    "W3 = tf.Variable(tf.random_normal([3,3,64, 128],stddev=0.03))\n",
    "\n",
    "#L3\n",
    "L3 = tf.nn.conv2d(MP1, W2, strides=[1,1,1,1], padding='SAME')\n",
    "L3_img = tf.nn.relu(L3)\n",
    "\n",
    "#MP3\n",
    "MP3 = tf.nn.max_pool(L3_img, ksize=[1,2,2,1], strides=[1,2,2,1], padding='SAME')\n",
    "MP3 = tf.reshape(MP3, [-1, 4 * 4 * 128])\n",
    "\n",
    "W4=tf.Variable(tf.random_normal([4*4*128,10]))\n",
    "b = tf.Variable(tf.random_normal([10]))\n",
    "hypothesis = tf.matmul(MP3,W4)+b\n",
    "learning_rate = 0.001\n",
    "cost = tf.reduce_mean(tf.nn.softmax_cross_entropy_with_logits(logits=hypothesis, labels=Y))\n",
    "optimizer = tf.train.AdamOptimizer(learning_rate=learning_rate).minimize(cost)\n",
    "\n",
    "#Training and Evaluation\n",
    "#initialize\n",
    "sess = tf.Session()\n",
    "sess.run(tf.global_variables_initializer())\n",
    "\n",
    "training_epochs = 15\n",
    "batch_size = 100\n",
    "for epoch in range(training_epochs):\n",
    "    average_cost = 0\n",
    "    total_batch = int(mnist.train.num_examples / batch_size)\n",
    "    for i in range(total_batch):\n",
    "        batch_xs, batch_ys = mnist.train.next_batch(batch_size)\n",
    "        feed_dict = {X: batch_xs, Y: batch_ys}\n",
    "        c, _, = sess.run ([cost, optimizer], feed_dict=feed_dict)\n",
    "        average_cost += c /total_batch\n",
    "    print('Epoch:', \"%04d\" % (epoch + 1), 'cost =', '{:.9f}'.format(average_cost))\n",
    "                \n",
    "print('Learning Finished!')\n",
    "                \n",
    "correct_prediction = tf.equal(tf.argmax(hypothesis, 1), tf.argmax(Y,1))\n",
    "accuracy = tf.reduce_mean(tf.cast(correct_prediction, tf.float32))\n",
    "print('Accuracy:', sess.run(accuracy, feed_dict={X:mnist.test.images, Y:mnist.test.labels}))"
   ]
  },
  {
   "cell_type": "code",
   "execution_count": null,
   "metadata": {
    "scrolled": false
   },
   "outputs": [],
   "source": [
    "import numpy as np\n",
    "import cv2\n",
    "\n",
    "# Load an color image in grayscale\n",
    "img = cv2.imread('messi5.jpg',0)"
   ]
  },
  {
   "cell_type": "code",
   "execution_count": 39,
   "metadata": {},
   "outputs": [
    {
     "name": "stdout",
     "output_type": "stream",
     "text": [
      "[[[[1.  0.  0. ]\n",
      "   [0.  1.  0. ]\n",
      "   [0.  0.  1. ]]\n",
      "\n",
      "  [[1.  1.  0. ]\n",
      "   [0.  1.  1. ]\n",
      "   [1.  0.  1. ]]\n",
      "\n",
      "  [[1.  0.5 0.5]\n",
      "   [0.5 1.  0.5]\n",
      "   [0.5 0.5 1. ]]]]\n"
     ]
    },
    {
     "data": {
      "text/plain": [
       "array([[[0, 1, 2],\n",
       "        [0, 1, 0],\n",
       "        [0, 1, 2]]])"
      ]
     },
     "execution_count": 39,
     "metadata": {},
     "output_type": "execute_result"
    }
   ],
   "source": [
    "print(image)\n",
    "sess.run(tf.argmax(image,0))\n",
    "sess.run(tf.argmax(image,3))\n"
   ]
  },
  {
   "cell_type": "markdown",
   "metadata": {},
   "source": [
    "## Keras를 이용한 CNN"
   ]
  },
  {
   "cell_type": "code",
   "execution_count": 5,
   "metadata": {},
   "outputs": [
    {
     "name": "stdout",
     "output_type": "stream",
     "text": [
      "Train on 60000 samples, validate on 10000 samples\n",
      "Epoch 1/10\n",
      "60000/60000 [==============================] - 89s 1ms/step - loss: 11.6268 - acc: 0.2780 - val_loss: 11.2812 - val_acc: 0.3000\n",
      "Epoch 2/10\n",
      "60000/60000 [==============================] - 86s 1ms/step - loss: 12.0988 - acc: 0.2493 - val_loss: 13.0847 - val_acc: 0.1882\n",
      "Epoch 3/10\n",
      "60000/60000 [==============================] - 91s 2ms/step - loss: 12.8314 - acc: 0.2039 - val_loss: 11.7162 - val_acc: 0.2731\n",
      "Epoch 4/10\n",
      "60000/60000 [==============================] - 92s 2ms/step - loss: 11.5084 - acc: 0.2860 - val_loss: 11.5099 - val_acc: 0.2859\n",
      "Epoch 5/10\n",
      "60000/60000 [==============================] - 92s 2ms/step - loss: 12.0329 - acc: 0.2534 - val_loss: 11.7388 - val_acc: 0.2717\n",
      "Epoch 6/10\n",
      "60000/60000 [==============================] - 90s 1ms/step - loss: 11.5091 - acc: 0.2859 - val_loss: 11.8678 - val_acc: 0.2637\n",
      "Epoch 7/10\n",
      "60000/60000 [==============================] - 89s 1ms/step - loss: 11.3357 - acc: 0.2967 - val_loss: 11.2601 - val_acc: 0.3014\n",
      "Epoch 8/10\n",
      "60000/60000 [==============================] - 89s 1ms/step - loss: 10.7200 - acc: 0.3349 - val_loss: 10.1826 - val_acc: 0.3682\n",
      "Epoch 9/10\n",
      "60000/60000 [==============================] - 88s 1ms/step - loss: 10.2322 - acc: 0.3652 - val_loss: 10.4606 - val_acc: 0.3510\n",
      "Epoch 10/10\n",
      "60000/60000 [==============================] - 80s 1ms/step - loss: 10.4837 - acc: 0.3496 - val_loss: 10.3269 - val_acc: 0.3593\n"
     ]
    },
    {
     "data": {
      "text/plain": [
       "array([[0., 0., 0., 0., 0., 0., 0., 1., 0., 0.],\n",
       "       [0., 0., 1., 0., 0., 0., 0., 0., 0., 0.],\n",
       "       [0., 1., 0., 0., 0., 0., 0., 0., 0., 0.],\n",
       "       [1., 0., 0., 0., 0., 0., 0., 0., 0., 0.]], dtype=float32)"
      ]
     },
     "execution_count": 5,
     "metadata": {},
     "output_type": "execute_result"
    },
    {
     "data": {
      "image/png": "[encoded data removed]",
      "text/plain": [
       "<Figure size 432x288 with 1 Axes>"
      ]
     },
     "metadata": {
      "needs_background": "light"
     },
     "output_type": "display_data"
    }
   ],
   "source": [
    "import tensorflow as tf\n",
    "import keras\n",
    "from keras.datasets import mnist\n",
    "#download mnist data and split into train and test sets\n",
    "(X_train, y_train), (X_test, y_test) = mnist.load_data()\n",
    "\n",
    "import matplotlib.pyplot as plt\n",
    "#plot the first image in the dataset\n",
    "plt.imshow(X_train[0])\n",
    "\n",
    "#reshape data to fit model\n",
    "X_train = X_train.reshape(60000,28,28,1)\n",
    "X_test = X_test.reshape(10000,28,28,1)\n",
    "from keras.utils import to_categorical\n",
    "#one-hot encode target column\n",
    "y_train = to_categorical(y_train)\n",
    "y_test = to_categorical(y_test)\n",
    "\n",
    "from keras.models import Sequential\n",
    "from keras.layers import Dense, Conv2D, Flatten\n",
    "#create model\n",
    "model = Sequential()\n",
    "#add model layers\n",
    "model.add(Conv2D(64, kernel_size=3, activation='relu', input_shape=(28,28,1)))\n",
    "model.add(Conv2D(32, kernel_size=3, activation='relu'))\n",
    "model.add(Flatten())\n",
    "model.add(Dense(10, activation='softmax'))\n",
    "#compile model using accuracy to measure model performance\n",
    "model.compile(optimizer='adam', loss='categorical_crossentropy', metrics=['accuracy'])\n",
    "\n",
    "#train the model\n",
    "model.fit(X_train, y_train, validation_data=(X_test, y_test), epochs=10)\n",
    "\n",
    "#predict first 4 images in the test set\n",
    "model.predict(X_test[:4])\n",
    "\n",
    "#actual results for first 4 images in test set\n",
    "y_test[:4]"
   ]
  }
 ],
 "metadata": {
  "kernelspec": {
   "display_name": "Python 3",
   "language": "python",
   "name": "python3"
  },
  "language_info": {
   "codemirror_mode": {
    "name": "ipython",
    "version": 3
   },
   "file_extension": ".py",
   "mimetype": "text/x-python",
   "name": "python",
   "nbconvert_exporter": "python",
   "pygments_lexer": "ipython3",
   "version": "3.7.2"
  }
 },
 "nbformat": 4,
 "nbformat_minor": 2
}
